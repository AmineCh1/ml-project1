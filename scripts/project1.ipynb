{
 "cells": [
  {
   "cell_type": "code",
   "execution_count": 1,
   "metadata": {},
   "outputs": [],
   "source": [
    "# Useful starting lines\n",
    "%matplotlib inline\n",
    "import numpy as np\n",
    "import matplotlib.pyplot as plt\n",
    "%load_ext autoreload\n",
    "%autoreload 2"
   ]
  },
  {
   "cell_type": "markdown",
   "metadata": {},
   "source": [
    "## Load the training data into feature matrix, class labels, and event ids:"
   ]
  },
  {
   "cell_type": "code",
   "execution_count": 6,
   "metadata": {},
   "outputs": [],
   "source": [
    "from proj1_helpers import *\n",
    "DATA_TRAIN_PATH = '../data/train.csv' # Path relative to your mahcine I guess ? \n",
    "y, tX, ids = load_csv_data(DATA_TRAIN_PATH)"
   ]
  },
  {
   "cell_type": "markdown",
   "metadata": {},
   "source": [
    "## Do your thing crazy machine learning thing here :) ..."
   ]
  },
  {
   "cell_type": "markdown",
   "metadata": {},
   "source": [
    "## Generate predictions and save ouput in csv format for submission:"
   ]
  },
  {
   "cell_type": "code",
   "execution_count": 9,
   "metadata": {},
   "outputs": [],
   "source": [
    "DATA_TEST_PATH = '../data/test.csv' # TODO: download train data and supply path here \n",
    "_, tX_test, ids_test = load_csv_data(DATA_TEST_PATH)"
   ]
  },
  {
   "cell_type": "code",
   "execution_count": 10,
   "metadata": {},
   "outputs": [
    {
     "ename": "NameError",
     "evalue": "name 'weights' is not defined",
     "output_type": "error",
     "traceback": [
      "\u001b[1;31m---------------------------------------------------------------------------\u001b[0m",
      "\u001b[1;31mNameError\u001b[0m                                 Traceback (most recent call last)",
      "\u001b[1;32m<ipython-input-10-1a5e51a4d3eb>\u001b[0m in \u001b[0;36m<module>\u001b[1;34m\u001b[0m\n\u001b[0;32m      1\u001b[0m \u001b[0mOUTPUT_PATH\u001b[0m \u001b[1;33m=\u001b[0m \u001b[1;34m''\u001b[0m \u001b[1;31m# TODO: fill in desired name of output file for submission\u001b[0m\u001b[1;33m\u001b[0m\u001b[1;33m\u001b[0m\u001b[0m\n\u001b[1;32m----> 2\u001b[1;33m \u001b[0my_pred\u001b[0m \u001b[1;33m=\u001b[0m \u001b[0mpredict_labels\u001b[0m\u001b[1;33m(\u001b[0m\u001b[0mweights\u001b[0m\u001b[1;33m,\u001b[0m \u001b[0mtX_test\u001b[0m\u001b[1;33m)\u001b[0m\u001b[1;33m\u001b[0m\u001b[1;33m\u001b[0m\u001b[0m\n\u001b[0m\u001b[0;32m      3\u001b[0m \u001b[0mcreate_csv_submission\u001b[0m\u001b[1;33m(\u001b[0m\u001b[0mids_test\u001b[0m\u001b[1;33m,\u001b[0m \u001b[0my_pred\u001b[0m\u001b[1;33m,\u001b[0m \u001b[0mOUTPUT_PATH\u001b[0m\u001b[1;33m)\u001b[0m\u001b[1;33m\u001b[0m\u001b[1;33m\u001b[0m\u001b[0m\n",
      "\u001b[1;31mNameError\u001b[0m: name 'weights' is not defined"
     ]
    }
   ],
   "source": [
    "OUTPUT_PATH = '' # TODO: fill in desired name of output file for submission\n",
    "y_pred = predict_labels(weights, tX_test)\n",
    "create_csv_submission(ids_test, y_pred, OUTPUT_PATH)"
   ]
  },
  {
   "cell_type": "code",
   "execution_count": 11,
   "metadata": {},
   "outputs": [],
   "source": [
    "def partition_data(x, y, i):\n",
    "    \"Merge data and labels\"\n",
    "    data = np.c_[y, x]\n",
    "    \n",
    "    \"Find indexes where the 23rd element of the data is 'i' (i = 0, 1, 2 and 3)\"\n",
    "    index = data[:, 23]==i\n",
    "    \n",
    "    \"Split the data according to the indexes found\"\n",
    "    data_i = data[index, :]\n",
    "    \n",
    "    \"Unmerge the data and labels\"\n",
    "    y_i = data_i[:, 0]\n",
    "    x_i = data_i[:, 1:]\n",
    "    \n",
    "    \"-999s don't appear in 1st column following the indexes, so we don't take it in consideration in the following\"\n",
    "    \"and we get ride of the then 21st column containing the 'i's\"\n",
    "    x_test = np.delete(x_i[:, 1:], 21, axis=1)\n",
    "    \n",
    "    \"Remove columns where elements have value -999\"\n",
    "    x_test = np.delete(x_test, np.where(x_test[0]==-999), axis=1)\n",
    "    \n",
    "    \"Concactenation of 1st column of the data and the rest with elements of value -999 removed\"\n",
    "    x_test = np.c_[x_i[:, 0], x_test]\n",
    "    \n",
    "    \"Replace elements of value -999 in 1st column of the data by the mean of \"\n",
    "    for column in range(x_test[0].size):\n",
    "        indices = x_test[:,column]==-999\n",
    "        x_test[indices, column] = np.mean(x_test[~indices, column])\n",
    "\n",
    "    return index, y_i, x_test"
   ]
  },
  {
   "cell_type": "code",
   "execution_count": 12,
   "metadata": {},
   "outputs": [],
   "source": [
    "index0, y0, x_test0 = partition_data(tX, y, 0)\n",
    "index1, y1, x_test1 = partition_data(tX, y, 1)\n",
    "index2, y2, x_test2 = partition_data(tX, y, 2)\n",
    "index3, y3, x_test3 = partition_data(tX, y, 3)"
   ]
  },
  {
   "cell_type": "code",
   "execution_count": 23,
   "metadata": {},
   "outputs": [
    {
     "data": {
      "text/plain": [
       "array([[ 1.43905000e+02,  8.14170000e+01,  8.09430000e+01,\n",
       "         4.14000000e-01,  3.31000000e+00,  4.14000000e-01,\n",
       "         7.59680000e+01,  2.35400000e+00, -1.28500000e+00,\n",
       "         2.26470000e+01, -1.65500000e+00,  1.00000000e-02,\n",
       "         5.33210000e+01, -5.22000000e-01, -3.10000000e+00,\n",
       "         3.10820000e+01,  6.00000000e-02,  8.60620000e+01,\n",
       "         0.00000000e+00],\n",
       "       [ 1.75864000e+02,  1.69150000e+01,  1.34805000e+02,\n",
       "         1.64050000e+01,  3.89100000e+00,  1.64050000e+01,\n",
       "         5.79830000e+01,  1.05600000e+00, -1.38500000e+00,\n",
       "         2.82090000e+01, -2.19700000e+00, -2.23100000e+00,\n",
       "         2.97740000e+01,  7.98000000e-01,  1.56900000e+00,\n",
       "         2.72300000e+00, -8.71000000e-01,  5.31310000e+01,\n",
       "         0.00000000e+00],\n",
       "       [ 1.05594000e+02,  5.05590000e+01,  1.00989000e+02,\n",
       "         4.28800000e+00,  2.90400000e+00,  4.28800000e+00,\n",
       "         6.53330000e+01,  6.75000000e-01, -1.36600000e+00,\n",
       "         3.90080000e+01,  2.43300000e+00, -2.53200000e+00,\n",
       "         2.63250000e+01,  2.10000000e-01,  1.88400000e+00,\n",
       "         3.77910000e+01,  2.40000000e-02,  1.29804000e+02,\n",
       "         0.00000000e+00],\n",
       "       [ 1.20667654e+02,  8.62400000e+01,  7.96920000e+01,\n",
       "         2.72010000e+01,  2.33800000e+00,  2.72010000e+01,\n",
       "         8.17340000e+01,  1.75000000e+00, -1.41200000e+00,\n",
       "         2.97180000e+01, -8.66000000e-01,  2.87800000e+00,\n",
       "         5.20160000e+01,  1.26000000e-01, -1.28800000e+00,\n",
       "         5.12760000e+01,  6.88000000e-01,  2.50178000e+02,\n",
       "         0.00000000e+00],\n",
       "       [ 8.24880000e+01,  3.16630000e+01,  6.41280000e+01,\n",
       "         8.23200000e+00,  2.82300000e+00,  8.23200000e+00,\n",
       "         5.86490000e+01,  1.30300000e+00, -1.41400000e+00,\n",
       "         2.54700000e+01, -6.54000000e-01, -2.99000000e+00,\n",
       "         3.31790000e+01, -1.66500000e+00, -3.54000000e-01,\n",
       "         1.24390000e+01,  1.43300000e+00,  1.63420000e+02,\n",
       "         0.00000000e+00]])"
      ]
     },
     "execution_count": 23,
     "metadata": {},
     "output_type": "execute_result"
    }
   ],
   "source": [
    "x_test0[:5]"
   ]
  },
  {
   "cell_type": "code",
   "execution_count": null,
   "metadata": {},
   "outputs": [],
   "source": []
  }
 ],
 "metadata": {
  "anaconda-cloud": {},
  "kernelspec": {
   "display_name": "Python 3",
   "language": "python",
   "name": "python3"
  },
  "language_info": {
   "codemirror_mode": {
    "name": "ipython",
    "version": 3
   },
   "file_extension": ".py",
   "mimetype": "text/x-python",
   "name": "python",
   "nbconvert_exporter": "python",
   "pygments_lexer": "ipython3",
   "version": "3.6.8"
  }
 },
 "nbformat": 4,
 "nbformat_minor": 1
}
