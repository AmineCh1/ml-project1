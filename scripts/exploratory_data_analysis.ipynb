{
 "cells": [
  {
   "cell_type": "markdown",
   "metadata": {},
   "source": [
    "# Exploratory data analysis"
   ]
  },
  {
   "cell_type": "code",
   "execution_count": null,
   "metadata": {},
   "outputs": [],
   "source": [
    "import math\n",
    "\n",
    "import numpy as np\n",
    "import matplotlib.pyplot as plt\n",
    "import seaborn as sns\n",
    "\n",
    "from implementations import *\n",
    "from proj1_helpers import *\n",
    "\n",
    "%load_ext autoreload\n",
    "%autoreload 2\n",
    "%matplotlib inline"
   ]
  },
  {
   "cell_type": "code",
   "execution_count": null,
   "metadata": {},
   "outputs": [],
   "source": [
    "# Setting global styles for matplotlib.pyplot\n",
    "\n",
    "SMALL_SIZE = 11\n",
    "MEDIUM_SIZE = 14\n",
    "BIG_SIZE = 16\n",
    "LARGE_SIZE = 24 \n",
    "\n",
    "plt.rc('axes', labelsize=BIG_SIZE)\n",
    "plt.rc('xtick', labelsize=MEDIUM_SIZE)\n",
    "plt.rc('ytick', labelsize=MEDIUM_SIZE)"
   ]
  },
  {
   "cell_type": "code",
   "execution_count": null,
   "metadata": {},
   "outputs": [],
   "source": [
    "def plot_partioned_column(col_name, col_idx, log_scale=False):\n",
    "    fig, ax = plt.subplots(2, 2, figsize=(2 * 7, 2 * 7))\n",
    "    sns.histplot(x0[:, col_idx[col_name]], ax = ax[0, 0], log_scale=log_scale)\n",
    "    ax[0, 0].set_xlabel(f'{col_name} | PRI_jet_num = 0')\n",
    "    ax[0, 0].set_ylabel('')\n",
    "    sns.histplot(x1[:, col_idx[col_name]], ax = ax[0, 1], log_scale=log_scale)\n",
    "    ax[0, 1].set_xlabel(f'{col_name} | PRI_jet_num = 1')\n",
    "    ax[0, 1].set_ylabel('')\n",
    "    sns.histplot(x2[:, col_idx[col_name]], ax = ax[1, 0], log_scale=log_scale)\n",
    "    ax[1, 0].set_xlabel(f'{col_name} | PRI_jet_num = 2')\n",
    "    ax[1, 0].set_ylabel('')\n",
    "    sns.histplot(x3[:, col_idx[col_name]], ax = ax[1, 1], log_scale=log_scale)\n",
    "    ax[1, 1].set_xlabel(f'{col_name} | PRI_jet_num = 3')\n",
    "    ax[1, 1].set_ylabel('')"
   ]
  },
  {
   "cell_type": "code",
   "execution_count": null,
   "metadata": {},
   "outputs": [],
   "source": [
    "def partition_data(x, y, PRI_jet_num, col_idx):\n",
    "    # Merge data and labels\n",
    "    data = np.c_[y, x]\n",
    "    # Now, all columns from x are shifted with 1!\n",
    "    index = data[:, col_idx['PRI_jet_num']+1]==PRI_jet_num\n",
    "    \n",
    "    # Split the data according to the indexes found.\n",
    "    data_i = data[index, :]\n",
    "    # Unmerge the data and labels\n",
    "    y_i = data_i[:, 0]\n",
    "    x_i = data_i[:, 1:]\n",
    "    return x_i, y_i"
   ]
  },
  {
   "cell_type": "markdown",
   "metadata": {},
   "source": [
    "## Load the training data into feature matrix, class labels, and event ids:"
   ]
  },
  {
   "cell_type": "code",
   "execution_count": null,
   "metadata": {},
   "outputs": [],
   "source": [
    "DATA_TRAIN_PATH = \"../data/train.csv\"\n",
    "y, tX, ids = load_csv_data(DATA_TRAIN_PATH)"
   ]
  },
  {
   "cell_type": "code",
   "execution_count": null,
   "metadata": {},
   "outputs": [],
   "source": [
    "print(f\"y.shape {y.shape}\")\n",
    "print(f\"tX.shape {tX.shape}\")\n",
    "print(f\"ids.shape {ids.shape}\")"
   ]
  },
  {
   "cell_type": "markdown",
   "metadata": {},
   "source": [
    "The class labels are `1` and `-1` and stored in `y`, a column vector.\n",
    "\n",
    "The features are stored in `tX`.\n",
    "\n",
    "`col_idx` is a dictionary to map the column names to the index in the `tX` matrix."
   ]
  },
  {
   "cell_type": "code",
   "execution_count": null,
   "metadata": {},
   "outputs": [],
   "source": [
    "header = np.genfromtxt(DATA_TRAIN_PATH, delimiter=\",\", skip_header=0, dtype=str, max_rows=1)\n",
    "# Skip first 2 columns which are Id and Prediction\n",
    "header = header[2:]\n",
    "col_idx = {key: value for value, key in enumerate(header)}\n",
    "col_idx"
   ]
  },
  {
   "cell_type": "markdown",
   "metadata": {},
   "source": [
    "### 1. Distribution in each column"
   ]
  },
  {
   "cell_type": "code",
   "execution_count": null,
   "metadata": {},
   "outputs": [],
   "source": [
    "# Disable scrolling for this cell to see all plots by right clicking on the\n",
    "# cell.\n",
    "fig, ax = plt.subplots(10, 3, figsize=(3 * 7, 10 * 7))\n",
    "\n",
    "for col_name, col in col_idx.items():\n",
    "    i = int(col / 3)\n",
    "    j = int(col % 3)\n",
    "    sns.histplot(tX[:, col], ax=ax[i, j])\n",
    "    ax[i, j].set_xlabel(col_name)\n",
    "    ax[i, j].set_ylabel(\"\")"
   ]
  },
  {
   "cell_type": "markdown",
   "metadata": {},
   "source": [
    "### PRI_jet_num\n",
    "\n",
    "This variable has only 4 values: 0, 1, 2, 3. We split the data based on this and will train a classifier for each group.col_idx"
   ]
  },
  {
   "cell_type": "code",
   "execution_count": null,
   "metadata": {},
   "outputs": [],
   "source": [
    "x0, y0 = partition_data(tX, y, 0, col_idx)\n",
    "x1, y1 = partition_data(tX, y, 1, col_idx)\n",
    "x2, y2 = partition_data(tX, y, 2, col_idx)\n",
    "x3, y3 = partition_data(tX, y, 3, col_idx)"
   ]
  },
  {
   "cell_type": "markdown",
   "metadata": {},
   "source": [
    "### DER_deltaeta_jet_jet\n",
    "\n",
    "<span style=\"color:green; font-weight:bold\">Conclusion:</span>\n",
    "The DER_deltaeta_jet_jet is the same for x0 and x1 and can be safely discarded."
   ]
  },
  {
   "cell_type": "code",
   "execution_count": null,
   "metadata": {},
   "outputs": [],
   "source": [
    "plot_partioned_column('DER_deltaeta_jet_jet', col_idx)"
   ]
  },
  {
   "cell_type": "markdown",
   "metadata": {},
   "source": [
    "### DER_mass_jet_jet\n",
    "\n",
    "<span style=\"color:green; font-weight:bold\">Conclusion:</span>\n",
    "The DER_mass_jet_jet is the same for x0 and x1 and can be safely discarded."
   ]
  },
  {
   "cell_type": "code",
   "execution_count": null,
   "metadata": {},
   "outputs": [],
   "source": [
    "plot_partioned_column('DER_mass_jet_jet', col_idx)"
   ]
  },
  {
   "cell_type": "markdown",
   "metadata": {},
   "source": [
    "### DER_prodeta_jet_jet\n",
    "\n",
    "<span style=\"color:green; font-weight:bold\">Conclusion:</span>\n",
    "The DER_prodeta_jet_jet is the same for x0 and x1 and can be safely discarded."
   ]
  },
  {
   "cell_type": "code",
   "execution_count": null,
   "metadata": {},
   "outputs": [],
   "source": [
    "plot_partioned_column('DER_prodeta_jet_jet', col_idx)"
   ]
  },
  {
   "cell_type": "markdown",
   "metadata": {},
   "source": [
    "### DER_pt_tot\n",
    "\n",
    "<span style=\"color:green; font-weight:bold\">Conclusion:</span>\n",
    "Everything seems ok."
   ]
  },
  {
   "cell_type": "code",
   "execution_count": null,
   "metadata": {},
   "outputs": [],
   "source": [
    "# Plots seem fine\n",
    "# plot_partioned_column('DER_pt_tot', col_idx)"
   ]
  },
  {
   "cell_type": "markdown",
   "metadata": {},
   "source": [
    "### DER_lep_eta_centrality\n",
    "\n",
    "<span style=\"color:green; font-weight:bold\">Conclusion:</span>\n",
    "The DER_lep_eta_centrality is undefined in x0 and x1.DER_lep_eta_centrality"
   ]
  },
  {
   "cell_type": "code",
   "execution_count": null,
   "metadata": {},
   "outputs": [],
   "source": [
    "plot_partioned_column('DER_lep_eta_centrality', col_idx)"
   ]
  },
  {
   "cell_type": "markdown",
   "metadata": {},
   "source": [
    "### PRI_jet_leading_pt\n",
    "\n",
    "<span style=\"color:green; font-weight:bold\">Conclusion:</span>\n",
    "The PRI_jet_leading_pt is undefined in **just x0**."
   ]
  },
  {
   "cell_type": "code",
   "execution_count": null,
   "metadata": {},
   "outputs": [],
   "source": [
    "plot_partioned_column('PRI_jet_leading_pt', col_idx)"
   ]
  },
  {
   "cell_type": "markdown",
   "metadata": {},
   "source": [
    "### PRI_jet_leading_eta\n",
    "\n",
    "<span style=\"color:green; font-weight:bold\">Conclusion:</span>\n",
    "The PRI_jet_leading_eta is undefined in **just x0**."
   ]
  },
  {
   "cell_type": "code",
   "execution_count": null,
   "metadata": {},
   "outputs": [],
   "source": [
    "plot_partioned_column('PRI_jet_leading_eta', col_idx)"
   ]
  },
  {
   "cell_type": "markdown",
   "metadata": {},
   "source": [
    "### PRI_jet_leading_phi\n",
    "\n",
    "<span style=\"color:green; font-weight:bold\">Conclusion:</span>\n",
    "The PRI_jet_leading_phi is undefined in **just x0**."
   ]
  },
  {
   "cell_type": "code",
   "execution_count": null,
   "metadata": {},
   "outputs": [],
   "source": [
    "plot_partioned_column('PRI_jet_leading_phi', col_idx)"
   ]
  },
  {
   "cell_type": "markdown",
   "metadata": {},
   "source": [
    "### PRI_jet_subleading_pt\n",
    "\n",
    "<span style=\"color:green; font-weight:bold\">Conclusion:</span>\n",
    "The PRI_jet_subleading_pt is undefined in x0 and x1."
   ]
  },
  {
   "cell_type": "code",
   "execution_count": null,
   "metadata": {},
   "outputs": [],
   "source": [
    "plot_partioned_column('PRI_jet_subleading_pt', col_idx)"
   ]
  },
  {
   "cell_type": "markdown",
   "metadata": {},
   "source": [
    "### PRI_jet_subleading_eta\n",
    "\n",
    "<span style=\"color:green; font-weight:bold\">Conclusion:</span>\n",
    "The PRI_jet_subleading_eta is undefined in x0 and x1."
   ]
  },
  {
   "cell_type": "code",
   "execution_count": null,
   "metadata": {},
   "outputs": [],
   "source": [
    "plot_partioned_column('PRI_jet_subleading_eta', col_idx)"
   ]
  },
  {
   "cell_type": "markdown",
   "metadata": {},
   "source": [
    "### PRI_jet_subleading_phi\n",
    "\n",
    "<span style=\"color:green; font-weight:bold\">Conclusion:</span>\n",
    "The PRI_jet_subleading_phi is undefined in x0 and x1."
   ]
  },
  {
   "cell_type": "code",
   "execution_count": null,
   "metadata": {},
   "outputs": [],
   "source": [
    "plot_partioned_column('PRI_jet_subleading_phi', col_idx)"
   ]
  },
  {
   "cell_type": "markdown",
   "metadata": {},
   "source": [
    "### PRI_jet_all_pt\n",
    "\n",
    "<span style=\"color:green; font-weight:bold\">Conclusion:</span>\n",
    "The PRI_jet_all_pt is undefined in **just x0**."
   ]
  },
  {
   "cell_type": "code",
   "execution_count": null,
   "metadata": {},
   "outputs": [],
   "source": [
    "plot_partioned_column('PRI_jet_all_pt', col_idx)"
   ]
  }
 ],
 "metadata": {
  "kernelspec": {
   "display_name": "Python 3",
   "language": "python",
   "name": "python3"
  },
  "language_info": {
   "codemirror_mode": {
    "name": "ipython",
    "version": 3
   },
   "file_extension": ".py",
   "mimetype": "text/x-python",
   "name": "python",
   "nbconvert_exporter": "python",
   "pygments_lexer": "ipython3",
   "version": "3.7.6"
  }
 },
 "nbformat": 4,
 "nbformat_minor": 4
}
